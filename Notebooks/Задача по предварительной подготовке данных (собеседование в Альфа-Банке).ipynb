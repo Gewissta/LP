{
 "cells": [
  {
   "cell_type": "code",
   "execution_count": 1,
   "metadata": {},
   "outputs": [],
   "source": [
    "import pandas as pd"
   ]
  },
  {
   "cell_type": "code",
   "execution_count": 2,
   "metadata": {},
   "outputs": [
    {
     "data": {
      "text/html": [
       "<div>\n",
       "<style scoped>\n",
       "    .dataframe tbody tr th:only-of-type {\n",
       "        vertical-align: middle;\n",
       "    }\n",
       "\n",
       "    .dataframe tbody tr th {\n",
       "        vertical-align: top;\n",
       "    }\n",
       "\n",
       "    .dataframe thead th {\n",
       "        text-align: right;\n",
       "    }\n",
       "</style>\n",
       "<table border=\"1\" class=\"dataframe\">\n",
       "  <thead>\n",
       "    <tr style=\"text-align: right;\">\n",
       "      <th></th>\n",
       "      <th>city</th>\n",
       "      <th>date</th>\n",
       "      <th>id</th>\n",
       "    </tr>\n",
       "  </thead>\n",
       "  <tbody>\n",
       "    <tr>\n",
       "      <th>0</th>\n",
       "      <td>Kazan, St-Petersburg, Sochi</td>\n",
       "      <td>2014-10-06 03:16:18</td>\n",
       "      <td>49</td>\n",
       "    </tr>\n",
       "    <tr>\n",
       "      <th>1</th>\n",
       "      <td>Moscow, Kazan</td>\n",
       "      <td>2013-01-04 09:44:04</td>\n",
       "      <td>252</td>\n",
       "    </tr>\n",
       "    <tr>\n",
       "      <th>2</th>\n",
       "      <td>Kazan, Moscow</td>\n",
       "      <td>2013-12-04 11:39:03</td>\n",
       "      <td>208</td>\n",
       "    </tr>\n",
       "    <tr>\n",
       "      <th>3</th>\n",
       "      <td>St-Petersburg, Kazan</td>\n",
       "      <td>2014-09-04 10:09:53</td>\n",
       "      <td>81</td>\n",
       "    </tr>\n",
       "    <tr>\n",
       "      <th>4</th>\n",
       "      <td>St-Petersburg, Moscow, Sochi</td>\n",
       "      <td>2014-09-25 02:04:14</td>\n",
       "      <td>109</td>\n",
       "    </tr>\n",
       "  </tbody>\n",
       "</table>\n",
       "</div>"
      ],
      "text/plain": [
       "                           city                 date   id\n",
       "0   Kazan, St-Petersburg, Sochi  2014-10-06 03:16:18   49\n",
       "1                 Moscow, Kazan  2013-01-04 09:44:04  252\n",
       "2                 Kazan, Moscow  2013-12-04 11:39:03  208\n",
       "3          St-Petersburg, Kazan  2014-09-04 10:09:53   81\n",
       "4  St-Petersburg, Moscow, Sochi  2014-09-25 02:04:14  109"
      ]
     },
     "execution_count": 2,
     "metadata": {},
     "output_type": "execute_result"
    }
   ],
   "source": [
    "# загружаем данные\n",
    "df = pd.read_csv('Data/alfa_python_test.csv')\n",
    "# смотрим первые 5 наблюдений\n",
    "df.head()"
   ]
  },
  {
   "cell_type": "code",
   "execution_count": 3,
   "metadata": {},
   "outputs": [
    {
     "name": "stdout",
     "output_type": "stream",
     "text": [
      "<class 'pandas.core.frame.DataFrame'>\n",
      "RangeIndex: 1000 entries, 0 to 999\n",
      "Data columns (total 3 columns):\n",
      "city    805 non-null object\n",
      "date    1000 non-null object\n",
      "id      1000 non-null int64\n",
      "dtypes: int64(1), object(2)\n",
      "memory usage: 23.5+ KB\n"
     ]
    }
   ],
   "source": [
    "# смотрим типы переменных и наличие пропусков\n",
    "df.info()"
   ]
  },
  {
   "cell_type": "code",
   "execution_count": 4,
   "metadata": {},
   "outputs": [],
   "source": [
    "# приводим столбец date к типу datetime \n",
    "df['date'] = pd.to_datetime(df['date'])"
   ]
  },
  {
   "cell_type": "code",
   "execution_count": 5,
   "metadata": {},
   "outputs": [
    {
     "data": {
      "text/html": [
       "<div>\n",
       "<style scoped>\n",
       "    .dataframe tbody tr th:only-of-type {\n",
       "        vertical-align: middle;\n",
       "    }\n",
       "\n",
       "    .dataframe tbody tr th {\n",
       "        vertical-align: top;\n",
       "    }\n",
       "\n",
       "    .dataframe thead th {\n",
       "        text-align: right;\n",
       "    }\n",
       "</style>\n",
       "<table border=\"1\" class=\"dataframe\">\n",
       "  <thead>\n",
       "    <tr style=\"text-align: right;\">\n",
       "      <th></th>\n",
       "      <th>city</th>\n",
       "      <th>date</th>\n",
       "      <th>id</th>\n",
       "    </tr>\n",
       "  </thead>\n",
       "  <tbody>\n",
       "    <tr>\n",
       "      <th>106</th>\n",
       "      <td>Kazan, Moscow, St-Petersburg</td>\n",
       "      <td>2014-10-06 20:58:34</td>\n",
       "      <td>0</td>\n",
       "    </tr>\n",
       "    <tr>\n",
       "      <th>157</th>\n",
       "      <td>Moscow, Sochi</td>\n",
       "      <td>2013-09-24 18:06:24</td>\n",
       "      <td>0</td>\n",
       "    </tr>\n",
       "    <tr>\n",
       "      <th>335</th>\n",
       "      <td>Moscow</td>\n",
       "      <td>2013-06-27 21:55:49</td>\n",
       "      <td>0</td>\n",
       "    </tr>\n",
       "    <tr>\n",
       "      <th>150</th>\n",
       "      <td>Sochi</td>\n",
       "      <td>2014-02-19 22:19:14</td>\n",
       "      <td>1</td>\n",
       "    </tr>\n",
       "    <tr>\n",
       "      <th>300</th>\n",
       "      <td>Sochi, St-Petersburg, Moscow, Kazan</td>\n",
       "      <td>2013-03-18 06:46:12</td>\n",
       "      <td>1</td>\n",
       "    </tr>\n",
       "    <tr>\n",
       "      <th>873</th>\n",
       "      <td>St-Petersburg, Moscow, Sochi, Kazan</td>\n",
       "      <td>2014-11-04 11:53:27</td>\n",
       "      <td>1</td>\n",
       "    </tr>\n",
       "    <tr>\n",
       "      <th>86</th>\n",
       "      <td>Moscow, Sochi</td>\n",
       "      <td>2014-09-14 12:37:29</td>\n",
       "      <td>1</td>\n",
       "    </tr>\n",
       "    <tr>\n",
       "      <th>46</th>\n",
       "      <td>Sochi, St-Petersburg, Kazan, Moscow</td>\n",
       "      <td>2014-03-20 21:25:05</td>\n",
       "      <td>2</td>\n",
       "    </tr>\n",
       "    <tr>\n",
       "      <th>224</th>\n",
       "      <td>Moscow, Kazan, St-Petersburg, Sochi</td>\n",
       "      <td>2014-07-02 02:04:42</td>\n",
       "      <td>2</td>\n",
       "    </tr>\n",
       "    <tr>\n",
       "      <th>484</th>\n",
       "      <td>NaN</td>\n",
       "      <td>2014-05-21 10:29:54</td>\n",
       "      <td>3</td>\n",
       "    </tr>\n",
       "  </tbody>\n",
       "</table>\n",
       "</div>"
      ],
      "text/plain": [
       "                                    city                date  id\n",
       "106         Kazan, Moscow, St-Petersburg 2014-10-06 20:58:34   0\n",
       "157                        Moscow, Sochi 2013-09-24 18:06:24   0\n",
       "335                               Moscow 2013-06-27 21:55:49   0\n",
       "150                                Sochi 2014-02-19 22:19:14   1\n",
       "300  Sochi, St-Petersburg, Moscow, Kazan 2013-03-18 06:46:12   1\n",
       "873  St-Petersburg, Moscow, Sochi, Kazan 2014-11-04 11:53:27   1\n",
       "86                         Moscow, Sochi 2014-09-14 12:37:29   1\n",
       "46   Sochi, St-Petersburg, Kazan, Moscow 2014-03-20 21:25:05   2\n",
       "224  Moscow, Kazan, St-Petersburg, Sochi 2014-07-02 02:04:42   2\n",
       "484                                  NaN 2014-05-21 10:29:54   3"
      ]
     },
     "execution_count": 5,
     "metadata": {},
     "output_type": "execute_result"
    }
   ],
   "source": [
    "# отсортируем и выведем первые 10 наблюдений\n",
    "df.sort_values('id').head(10)"
   ]
  },
  {
   "cell_type": "markdown",
   "metadata": {},
   "source": [
    "## 1. Для каждого уникального id оставьте только одну строку с самой поздней датой. "
   ]
  },
  {
   "cell_type": "code",
   "execution_count": 6,
   "metadata": {},
   "outputs": [
    {
     "data": {
      "text/html": [
       "<div>\n",
       "<style scoped>\n",
       "    .dataframe tbody tr th:only-of-type {\n",
       "        vertical-align: middle;\n",
       "    }\n",
       "\n",
       "    .dataframe tbody tr th {\n",
       "        vertical-align: top;\n",
       "    }\n",
       "\n",
       "    .dataframe thead th {\n",
       "        text-align: right;\n",
       "    }\n",
       "</style>\n",
       "<table border=\"1\" class=\"dataframe\">\n",
       "  <thead>\n",
       "    <tr style=\"text-align: right;\">\n",
       "      <th></th>\n",
       "      <th>city</th>\n",
       "      <th>date</th>\n",
       "      <th>id</th>\n",
       "    </tr>\n",
       "  </thead>\n",
       "  <tbody>\n",
       "    <tr>\n",
       "      <th>106</th>\n",
       "      <td>Kazan, Moscow, St-Petersburg</td>\n",
       "      <td>2014-10-06 20:58:34</td>\n",
       "      <td>0</td>\n",
       "    </tr>\n",
       "    <tr>\n",
       "      <th>873</th>\n",
       "      <td>St-Petersburg, Moscow, Sochi, Kazan</td>\n",
       "      <td>2014-11-04 11:53:27</td>\n",
       "      <td>1</td>\n",
       "    </tr>\n",
       "    <tr>\n",
       "      <th>224</th>\n",
       "      <td>Moscow, Kazan, St-Petersburg, Sochi</td>\n",
       "      <td>2014-07-02 02:04:42</td>\n",
       "      <td>2</td>\n",
       "    </tr>\n",
       "    <tr>\n",
       "      <th>819</th>\n",
       "      <td>Moscow, Sochi</td>\n",
       "      <td>2014-10-31 13:06:28</td>\n",
       "      <td>3</td>\n",
       "    </tr>\n",
       "    <tr>\n",
       "      <th>983</th>\n",
       "      <td>Kazan, Moscow, Sochi, St-Petersburg</td>\n",
       "      <td>2013-06-10 22:25:47</td>\n",
       "      <td>4</td>\n",
       "    </tr>\n",
       "    <tr>\n",
       "      <th>470</th>\n",
       "      <td>Kazan, Sochi, Moscow</td>\n",
       "      <td>2013-03-23 11:45:54</td>\n",
       "      <td>5</td>\n",
       "    </tr>\n",
       "    <tr>\n",
       "      <th>76</th>\n",
       "      <td>St-Petersburg, Sochi, Moscow</td>\n",
       "      <td>2014-02-06 23:17:13</td>\n",
       "      <td>6</td>\n",
       "    </tr>\n",
       "    <tr>\n",
       "      <th>709</th>\n",
       "      <td>Sochi, St-Petersburg</td>\n",
       "      <td>2013-10-01 10:10:24</td>\n",
       "      <td>7</td>\n",
       "    </tr>\n",
       "    <tr>\n",
       "      <th>265</th>\n",
       "      <td>Kazan</td>\n",
       "      <td>2014-04-30 04:47:09</td>\n",
       "      <td>8</td>\n",
       "    </tr>\n",
       "    <tr>\n",
       "      <th>80</th>\n",
       "      <td>Moscow, Sochi, St-Petersburg</td>\n",
       "      <td>2013-11-07 11:38:20</td>\n",
       "      <td>9</td>\n",
       "    </tr>\n",
       "  </tbody>\n",
       "</table>\n",
       "</div>"
      ],
      "text/plain": [
       "                                    city                date  id\n",
       "106         Kazan, Moscow, St-Petersburg 2014-10-06 20:58:34   0\n",
       "873  St-Petersburg, Moscow, Sochi, Kazan 2014-11-04 11:53:27   1\n",
       "224  Moscow, Kazan, St-Petersburg, Sochi 2014-07-02 02:04:42   2\n",
       "819                        Moscow, Sochi 2014-10-31 13:06:28   3\n",
       "983  Kazan, Moscow, Sochi, St-Petersburg 2013-06-10 22:25:47   4\n",
       "470                 Kazan, Sochi, Moscow 2013-03-23 11:45:54   5\n",
       "76          St-Petersburg, Sochi, Moscow 2014-02-06 23:17:13   6\n",
       "709                 Sochi, St-Petersburg 2013-10-01 10:10:24   7\n",
       "265                                Kazan 2014-04-30 04:47:09   8\n",
       "80          Moscow, Sochi, St-Petersburg 2013-11-07 11:38:20   9"
      ]
     },
     "execution_count": 6,
     "metadata": {},
     "output_type": "execute_result"
    }
   ],
   "source": [
    "# для каждого уникального id оставим только одну строку с самой поздней датой,\n",
    "# idmax() выдаёт индексы максимальных значений, в нашем случае - в колонке 'date'\n",
    "df = df.loc[df.groupby('id')['date'].idxmax()].sort_values('id')\n",
    "df.head(10)"
   ]
  },
  {
   "cell_type": "code",
   "execution_count": 7,
   "metadata": {},
   "outputs": [],
   "source": [
    "# удаляем пропуски\n",
    "df.dropna(inplace=True)"
   ]
  },
  {
   "cell_type": "markdown",
   "metadata": {},
   "source": [
    "## 2. Cколько в каждом городе было уникальных id?"
   ]
  },
  {
   "cell_type": "code",
   "execution_count": 8,
   "metadata": {},
   "outputs": [
    {
     "name": "stdout",
     "output_type": "stream",
     "text": [
      "Kazan\n",
      "163\n",
      "Moscow\n",
      "163\n",
      "Sochi\n",
      "166\n",
      "St-Petersburg\n",
      "153\n"
     ]
    }
   ],
   "source": [
    "# создаем пустой список\n",
    "cities = []\n",
    "\n",
    "# с помощью цикла подсчитываем количество\n",
    "# уникальных вхождений каждого города\n",
    "for city in sorted(df['city'].unique()):\n",
    "    for i in city.split(', '):\n",
    "        if i not in cities:\n",
    "            cities.append(i)\n",
    "            # печатаем название города\n",
    "            print(i)\n",
    "            # печатаем количество уникальных вхождений\n",
    "            print(df['city'].str.contains(i).sum())"
   ]
  },
  {
   "cell_type": "markdown",
   "metadata": {},
   "source": [
    "## 3. Сколько id содержится в каждом множестве городов?"
   ]
  },
  {
   "cell_type": "markdown",
   "metadata": {},
   "source": [
    "1. С помощью метода split() разбиваем строку (строковое значение столбца City) на части, используя разделитель (в данном случае - запятую), и возвращаем эти части в виде списка.\n",
    "2. Выполняем сортировку эти частей через функцию sorted().\n",
    "3. С помощью метода join() разделяем части запятыми, таким образом, получаем единый формат множеств: например, \"Sochi, Moscow\" станет \"Moscow, Sochi\".\n",
    "4. С помощью комбинации map + lambda вышеописанные три пункта применяем для каждой строки."
   ]
  },
  {
   "cell_type": "code",
   "execution_count": 9,
   "metadata": {},
   "outputs": [
    {
     "data": {
      "text/plain": [
       "Kazan, Moscow, Sochi, St-Petersburg    70\n",
       "Kazan, Moscow, Sochi                   29\n",
       "Moscow, Sochi, St-Petersburg           18\n",
       "Kazan, Moscow, St-Petersburg           16\n",
       "Sochi                                  15\n",
       "St-Petersburg                          15\n",
       "Kazan                                  12\n",
       "Kazan, Sochi, St-Petersburg            11\n",
       "Kazan, Moscow                          10\n",
       "Sochi, St-Petersburg                    8\n",
       "Kazan, St-Petersburg                    8\n",
       "Moscow, Sochi                           8\n",
       "Moscow, St-Petersburg                   7\n",
       "Kazan, Sochi                            7\n",
       "Moscow                                  5\n",
       "Name: city, dtype: int64"
      ]
     },
     "execution_count": 9,
     "metadata": {},
     "output_type": "execute_result"
    }
   ],
   "source": [
    "df['city'] = df['city'].map(lambda x: ', '.join(sorted(x.split(', '))))\n",
    "df['city'].value_counts()"
   ]
  }
 ],
 "metadata": {
  "kernelspec": {
   "display_name": "Python 3",
   "language": "python",
   "name": "python3"
  },
  "language_info": {
   "codemirror_mode": {
    "name": "ipython",
    "version": 3
   },
   "file_extension": ".py",
   "mimetype": "text/x-python",
   "name": "python",
   "nbconvert_exporter": "python",
   "pygments_lexer": "ipython3",
   "version": "3.7.1"
  }
 },
 "nbformat": 4,
 "nbformat_minor": 2
}
