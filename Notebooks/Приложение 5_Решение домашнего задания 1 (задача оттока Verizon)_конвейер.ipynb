{
 "cells": [
  {
   "cell_type": "markdown",
   "metadata": {},
   "source": [
    "<center>\n",
    "# ПРИЛОЖЕНИЕ 5\n",
    "<center>\n",
    "# РЕШЕНИЕ ДОМАШНЕГО ЗАДАНИЯ 1"
   ]
  },
  {
   "cell_type": "markdown",
   "metadata": {},
   "source": [
    "# Этап I. Построение модели логистической регрессии на обучающей выборке - части исторической выборки и ее проверка на контрольной выборке - части исторической выборки с помощью класса LogisticRegression"
   ]
  },
  {
   "cell_type": "code",
   "execution_count": 1,
   "metadata": {},
   "outputs": [],
   "source": [
    "# импортируем необходимые библиотеки numpy и pandas\n",
    "import numpy as np\n",
    "import pandas as pd\n",
    "# импортируем функцию train_test_split(), позволяющую выполнить\n",
    "# разбиение на обучающую и контрольную выборки\n",
    "from sklearn.model_selection import train_test_split\n",
    "# импортируем класс SimpleImputer, позволяющий\n",
    "# выполнить импутацию пропусков\n",
    "from sklearn.impute import SimpleImputer\n",
    "# импортируем класс PowerTransformer, позволяющий выполнить \n",
    "# преобразование Бокса-Кокса/Йео-Джонсона и стандартизацию\n",
    "from sklearn.preprocessing import PowerTransformer\n",
    "# импортируем класс OneHotEncoder, позволяющий\n",
    "# выполнить дамми-кодирование\n",
    "from sklearn.preprocessing import OneHotEncoder\n",
    "# импортируем класс KBinsDiscretizer, \n",
    "# позволяющий выполнять биннинг\n",
    "from sklearn.preprocessing import KBinsDiscretizer\n",
    "# импортируем класс ColumnTransformer, позволяющий выполнять\n",
    "# преобразования для отдельных типов столбцов\n",
    "from sklearn.compose import ColumnTransformer\n",
    "# импортируем класс Pipeline, позволяющий создавать конвейеры\n",
    "from sklearn.pipeline import Pipeline\n",
    "# импортируем класс KFold и функцию cross_val_score\n",
    "# для выполнения перекрестной проверки\n",
    "from sklearn.model_selection import KFold, cross_val_score\n",
    "# импортируем класс LogisticRegression для построения\n",
    "# логистической регрессии\n",
    "from sklearn.linear_model import LogisticRegression\n",
    "# импортируем функцию roc_auc_score()\n",
    "from sklearn.metrics import roc_auc_score\n",
    "# импортируем класс GridSearchCV\n",
    "from sklearn.model_selection import GridSearchCV"
   ]
  },
  {
   "cell_type": "markdown",
   "metadata": {},
   "source": [
    "## I.1. Загрузка исторических данных"
   ]
  },
  {
   "cell_type": "code",
   "execution_count": 2,
   "metadata": {},
   "outputs": [],
   "source": [
    "# записываем CSV-файл в объект DataFrame\n",
    "data = pd.read_csv('Data/Churn_logreg.csv', \n",
    "                   encoding='cp1251', sep=';')"
   ]
  },
  {
   "cell_type": "markdown",
   "metadata": {},
   "source": [
    "## I.2. Вывод общей информации о датафрейме"
   ]
  },
  {
   "cell_type": "code",
   "execution_count": 3,
   "metadata": {
    "scrolled": false
   },
   "outputs": [
    {
     "data": {
      "text/html": [
       "<div>\n",
       "<style scoped>\n",
       "    .dataframe tbody tr th:only-of-type {\n",
       "        vertical-align: middle;\n",
       "    }\n",
       "\n",
       "    .dataframe tbody tr th {\n",
       "        vertical-align: top;\n",
       "    }\n",
       "\n",
       "    .dataframe thead th {\n",
       "        text-align: right;\n",
       "    }\n",
       "</style>\n",
       "<table border=\"1\" class=\"dataframe\">\n",
       "  <thead>\n",
       "    <tr style=\"text-align: right;\">\n",
       "      <th></th>\n",
       "      <th>longdist</th>\n",
       "      <th>internat</th>\n",
       "      <th>local</th>\n",
       "      <th>int_disc</th>\n",
       "      <th>billtype</th>\n",
       "      <th>pay</th>\n",
       "      <th>age</th>\n",
       "      <th>gender</th>\n",
       "      <th>marital</th>\n",
       "      <th>children</th>\n",
       "      <th>income</th>\n",
       "      <th>churn</th>\n",
       "    </tr>\n",
       "  </thead>\n",
       "  <tbody>\n",
       "    <tr>\n",
       "      <th>0</th>\n",
       "      <td>27,09</td>\n",
       "      <td>0</td>\n",
       "      <td>39,74</td>\n",
       "      <td>Нет</td>\n",
       "      <td>Бюджетный</td>\n",
       "      <td>CC</td>\n",
       "      <td>35.0</td>\n",
       "      <td>Женский</td>\n",
       "      <td>Женат</td>\n",
       "      <td>0.0</td>\n",
       "      <td>77680</td>\n",
       "      <td>Остается</td>\n",
       "    </tr>\n",
       "    <tr>\n",
       "      <th>1</th>\n",
       "      <td>NaN</td>\n",
       "      <td>0</td>\n",
       "      <td>46,31</td>\n",
       "      <td>Нет</td>\n",
       "      <td>NaN</td>\n",
       "      <td>NaN</td>\n",
       "      <td>53.0</td>\n",
       "      <td>Мужской</td>\n",
       "      <td>Одинокий</td>\n",
       "      <td>1.0</td>\n",
       "      <td>37111,5</td>\n",
       "      <td>Остается</td>\n",
       "    </tr>\n",
       "    <tr>\n",
       "      <th>2</th>\n",
       "      <td>23,76</td>\n",
       "      <td>0</td>\n",
       "      <td>NaN</td>\n",
       "      <td>NaN</td>\n",
       "      <td>Бюджетный</td>\n",
       "      <td>Auto</td>\n",
       "      <td>NaN</td>\n",
       "      <td>Женский</td>\n",
       "      <td>NaN</td>\n",
       "      <td>1.0</td>\n",
       "      <td>37079,4</td>\n",
       "      <td>Остается</td>\n",
       "    </tr>\n",
       "    <tr>\n",
       "      <th>3</th>\n",
       "      <td>9,4</td>\n",
       "      <td>NaN</td>\n",
       "      <td>13,9</td>\n",
       "      <td>Нет</td>\n",
       "      <td>NaN</td>\n",
       "      <td>CH</td>\n",
       "      <td>NaN</td>\n",
       "      <td>Мужской</td>\n",
       "      <td>Одинокий</td>\n",
       "      <td>NaN</td>\n",
       "      <td>81997</td>\n",
       "      <td>Остается</td>\n",
       "    </tr>\n",
       "    <tr>\n",
       "      <th>4</th>\n",
       "      <td>14,15</td>\n",
       "      <td>0</td>\n",
       "      <td>108,43</td>\n",
       "      <td>Да</td>\n",
       "      <td>Бесплатный</td>\n",
       "      <td>Auto</td>\n",
       "      <td>39.0</td>\n",
       "      <td>Женский</td>\n",
       "      <td>Одинокий</td>\n",
       "      <td>0.0</td>\n",
       "      <td>16829,6</td>\n",
       "      <td>Остается</td>\n",
       "    </tr>\n",
       "    <tr>\n",
       "      <th>5</th>\n",
       "      <td>7,68</td>\n",
       "      <td>NaN</td>\n",
       "      <td>NaN</td>\n",
       "      <td>Нет</td>\n",
       "      <td>NaN</td>\n",
       "      <td>CC</td>\n",
       "      <td>57.0</td>\n",
       "      <td>NaN</td>\n",
       "      <td>NaN</td>\n",
       "      <td>1.0</td>\n",
       "      <td>57272,7</td>\n",
       "      <td>Остается</td>\n",
       "    </tr>\n",
       "    <tr>\n",
       "      <th>6</th>\n",
       "      <td>27,37</td>\n",
       "      <td>0,2</td>\n",
       "      <td>48,9</td>\n",
       "      <td>Да</td>\n",
       "      <td>Бесплатный</td>\n",
       "      <td>CH</td>\n",
       "      <td>NaN</td>\n",
       "      <td>Женский&amp;*</td>\n",
       "      <td>NaN</td>\n",
       "      <td>1.0</td>\n",
       "      <td>NaN</td>\n",
       "      <td>Уходит</td>\n",
       "    </tr>\n",
       "    <tr>\n",
       "      <th>7</th>\n",
       "      <td>5,35</td>\n",
       "      <td>NaN</td>\n",
       "      <td>NaN</td>\n",
       "      <td>Да</td>\n",
       "      <td>NaN</td>\n",
       "      <td>NaN</td>\n",
       "      <td>55.0</td>\n",
       "      <td>Женский&amp;*</td>\n",
       "      <td>Одинокий</td>\n",
       "      <td>0.0</td>\n",
       "      <td>40200,7</td>\n",
       "      <td>Уходит</td>\n",
       "    </tr>\n",
       "    <tr>\n",
       "      <th>8</th>\n",
       "      <td>14,77</td>\n",
       "      <td>0</td>\n",
       "      <td>30,42</td>\n",
       "      <td>Нет</td>\n",
       "      <td>Бесплатный</td>\n",
       "      <td>CH</td>\n",
       "      <td>86.0</td>\n",
       "      <td>Мужской</td>\n",
       "      <td>NaN</td>\n",
       "      <td>0.0</td>\n",
       "      <td>92167,3</td>\n",
       "      <td>Остается</td>\n",
       "    </tr>\n",
       "    <tr>\n",
       "      <th>9</th>\n",
       "      <td>24,73</td>\n",
       "      <td>NaN</td>\n",
       "      <td>21,17</td>\n",
       "      <td>Нет</td>\n",
       "      <td>Бюджетный</td>\n",
       "      <td>CC</td>\n",
       "      <td>28.0</td>\n",
       "      <td>Мужской</td>\n",
       "      <td>Одинокий</td>\n",
       "      <td>0.0</td>\n",
       "      <td>37135,5</td>\n",
       "      <td>Уходит</td>\n",
       "    </tr>\n",
       "  </tbody>\n",
       "</table>\n",
       "</div>"
      ],
      "text/plain": [
       "  longdist internat   local int_disc    billtype   pay   age     gender  \\\n",
       "0    27,09        0   39,74      Нет   Бюджетный    CC  35.0    Женский   \n",
       "1      NaN        0   46,31      Нет         NaN   NaN  53.0    Мужской   \n",
       "2    23,76        0     NaN      NaN   Бюджетный  Auto   NaN    Женский   \n",
       "3      9,4      NaN    13,9      Нет         NaN    CH   NaN    Мужской   \n",
       "4    14,15        0  108,43       Да  Бесплатный  Auto  39.0    Женский   \n",
       "5     7,68      NaN     NaN      Нет         NaN    CC  57.0        NaN   \n",
       "6    27,37      0,2    48,9       Да  Бесплатный    CH   NaN  Женский&*   \n",
       "7     5,35      NaN     NaN       Да         NaN   NaN  55.0  Женский&*   \n",
       "8    14,77        0   30,42      Нет  Бесплатный    CH  86.0    Мужской   \n",
       "9    24,73      NaN   21,17      Нет   Бюджетный    CC  28.0    Мужской   \n",
       "\n",
       "    marital  children   income     churn  \n",
       "0     Женат       0.0    77680  Остается  \n",
       "1  Одинокий       1.0  37111,5  Остается  \n",
       "2       NaN       1.0  37079,4  Остается  \n",
       "3  Одинокий       NaN    81997  Остается  \n",
       "4  Одинокий       0.0  16829,6  Остается  \n",
       "5       NaN       1.0  57272,7  Остается  \n",
       "6       NaN       1.0      NaN    Уходит  \n",
       "7  Одинокий       0.0  40200,7    Уходит  \n",
       "8       NaN       0.0  92167,3  Остается  \n",
       "9  Одинокий       0.0  37135,5    Уходит  "
      ]
     },
     "execution_count": 3,
     "metadata": {},
     "output_type": "execute_result"
    }
   ],
   "source": [
    "# выводим первые 5 наблюдений датафрейма\n",
    "data.head(10)"
   ]
  },
  {
   "cell_type": "markdown",
   "metadata": {},
   "source": [
    "## I.3. Изменение типов переменных"
   ]
  },
  {
   "cell_type": "code",
   "execution_count": 4,
   "metadata": {},
   "outputs": [
    {
     "name": "stdout",
     "output_type": "stream",
     "text": [
      "<class 'pandas.core.frame.DataFrame'>\n",
      "RangeIndex: 4431 entries, 0 to 4430\n",
      "Data columns (total 12 columns):\n",
      "longdist    4430 non-null object\n",
      "internat    4427 non-null object\n",
      "local       4428 non-null object\n",
      "int_disc    4430 non-null object\n",
      "billtype    4427 non-null object\n",
      "pay         4429 non-null object\n",
      "age         4428 non-null float64\n",
      "gender      4430 non-null object\n",
      "marital     4427 non-null object\n",
      "children    4430 non-null float64\n",
      "income      4430 non-null object\n",
      "churn       4431 non-null object\n",
      "dtypes: float64(2), object(10)\n",
      "memory usage: 415.5+ KB\n"
     ]
    }
   ],
   "source": [
    "# смотрим типы переменных\n",
    "data.info()"
   ]
  },
  {
   "cell_type": "code",
   "execution_count": 5,
   "metadata": {
    "scrolled": false
   },
   "outputs": [
    {
     "data": {
      "text/html": [
       "<div>\n",
       "<style scoped>\n",
       "    .dataframe tbody tr th:only-of-type {\n",
       "        vertical-align: middle;\n",
       "    }\n",
       "\n",
       "    .dataframe tbody tr th {\n",
       "        vertical-align: top;\n",
       "    }\n",
       "\n",
       "    .dataframe thead th {\n",
       "        text-align: right;\n",
       "    }\n",
       "</style>\n",
       "<table border=\"1\" class=\"dataframe\">\n",
       "  <thead>\n",
       "    <tr style=\"text-align: right;\">\n",
       "      <th></th>\n",
       "      <th>longdist</th>\n",
       "      <th>internat</th>\n",
       "      <th>local</th>\n",
       "      <th>int_disc</th>\n",
       "      <th>billtype</th>\n",
       "      <th>pay</th>\n",
       "      <th>age</th>\n",
       "      <th>gender</th>\n",
       "      <th>marital</th>\n",
       "      <th>children</th>\n",
       "      <th>income</th>\n",
       "      <th>churn</th>\n",
       "    </tr>\n",
       "  </thead>\n",
       "  <tbody>\n",
       "    <tr>\n",
       "      <th>0</th>\n",
       "      <td>27.09</td>\n",
       "      <td>0.0</td>\n",
       "      <td>39.74</td>\n",
       "      <td>Нет</td>\n",
       "      <td>Бюджетный</td>\n",
       "      <td>CC</td>\n",
       "      <td>35.0</td>\n",
       "      <td>Женский</td>\n",
       "      <td>Женат</td>\n",
       "      <td>0.0</td>\n",
       "      <td>77680.0</td>\n",
       "      <td>0</td>\n",
       "    </tr>\n",
       "    <tr>\n",
       "      <th>1</th>\n",
       "      <td>NaN</td>\n",
       "      <td>0.0</td>\n",
       "      <td>46.31</td>\n",
       "      <td>Нет</td>\n",
       "      <td>NaN</td>\n",
       "      <td>NaN</td>\n",
       "      <td>53.0</td>\n",
       "      <td>Мужской</td>\n",
       "      <td>Одинокий</td>\n",
       "      <td>1.0</td>\n",
       "      <td>37111.5</td>\n",
       "      <td>0</td>\n",
       "    </tr>\n",
       "    <tr>\n",
       "      <th>2</th>\n",
       "      <td>23.76</td>\n",
       "      <td>0.0</td>\n",
       "      <td>NaN</td>\n",
       "      <td>NaN</td>\n",
       "      <td>Бюджетный</td>\n",
       "      <td>Auto</td>\n",
       "      <td>NaN</td>\n",
       "      <td>Женский</td>\n",
       "      <td>NaN</td>\n",
       "      <td>1.0</td>\n",
       "      <td>37079.4</td>\n",
       "      <td>0</td>\n",
       "    </tr>\n",
       "    <tr>\n",
       "      <th>3</th>\n",
       "      <td>9.40</td>\n",
       "      <td>NaN</td>\n",
       "      <td>13.90</td>\n",
       "      <td>Нет</td>\n",
       "      <td>NaN</td>\n",
       "      <td>CH</td>\n",
       "      <td>NaN</td>\n",
       "      <td>Мужской</td>\n",
       "      <td>Одинокий</td>\n",
       "      <td>NaN</td>\n",
       "      <td>81997.0</td>\n",
       "      <td>0</td>\n",
       "    </tr>\n",
       "    <tr>\n",
       "      <th>4</th>\n",
       "      <td>14.15</td>\n",
       "      <td>0.0</td>\n",
       "      <td>108.43</td>\n",
       "      <td>Да</td>\n",
       "      <td>Бесплатный</td>\n",
       "      <td>Auto</td>\n",
       "      <td>39.0</td>\n",
       "      <td>Женский</td>\n",
       "      <td>Одинокий</td>\n",
       "      <td>0.0</td>\n",
       "      <td>16829.6</td>\n",
       "      <td>0</td>\n",
       "    </tr>\n",
       "    <tr>\n",
       "      <th>5</th>\n",
       "      <td>7.68</td>\n",
       "      <td>NaN</td>\n",
       "      <td>NaN</td>\n",
       "      <td>Нет</td>\n",
       "      <td>NaN</td>\n",
       "      <td>CC</td>\n",
       "      <td>57.0</td>\n",
       "      <td>NaN</td>\n",
       "      <td>NaN</td>\n",
       "      <td>1.0</td>\n",
       "      <td>57272.7</td>\n",
       "      <td>0</td>\n",
       "    </tr>\n",
       "    <tr>\n",
       "      <th>6</th>\n",
       "      <td>27.37</td>\n",
       "      <td>0.2</td>\n",
       "      <td>48.90</td>\n",
       "      <td>Да</td>\n",
       "      <td>Бесплатный</td>\n",
       "      <td>CH</td>\n",
       "      <td>NaN</td>\n",
       "      <td>Женский&amp;*</td>\n",
       "      <td>NaN</td>\n",
       "      <td>1.0</td>\n",
       "      <td>NaN</td>\n",
       "      <td>1</td>\n",
       "    </tr>\n",
       "    <tr>\n",
       "      <th>7</th>\n",
       "      <td>5.35</td>\n",
       "      <td>NaN</td>\n",
       "      <td>NaN</td>\n",
       "      <td>Да</td>\n",
       "      <td>NaN</td>\n",
       "      <td>NaN</td>\n",
       "      <td>55.0</td>\n",
       "      <td>Женский&amp;*</td>\n",
       "      <td>Одинокий</td>\n",
       "      <td>0.0</td>\n",
       "      <td>40200.7</td>\n",
       "      <td>1</td>\n",
       "    </tr>\n",
       "    <tr>\n",
       "      <th>8</th>\n",
       "      <td>14.77</td>\n",
       "      <td>0.0</td>\n",
       "      <td>30.42</td>\n",
       "      <td>Нет</td>\n",
       "      <td>Бесплатный</td>\n",
       "      <td>CH</td>\n",
       "      <td>86.0</td>\n",
       "      <td>Мужской</td>\n",
       "      <td>NaN</td>\n",
       "      <td>0.0</td>\n",
       "      <td>92167.3</td>\n",
       "      <td>0</td>\n",
       "    </tr>\n",
       "    <tr>\n",
       "      <th>9</th>\n",
       "      <td>24.73</td>\n",
       "      <td>NaN</td>\n",
       "      <td>21.17</td>\n",
       "      <td>Нет</td>\n",
       "      <td>Бюджетный</td>\n",
       "      <td>CC</td>\n",
       "      <td>28.0</td>\n",
       "      <td>Мужской</td>\n",
       "      <td>Одинокий</td>\n",
       "      <td>0.0</td>\n",
       "      <td>37135.5</td>\n",
       "      <td>1</td>\n",
       "    </tr>\n",
       "  </tbody>\n",
       "</table>\n",
       "</div>"
      ],
      "text/plain": [
       "   longdist  internat   local int_disc    billtype   pay   age     gender  \\\n",
       "0     27.09       0.0   39.74      Нет   Бюджетный    CC  35.0    Женский   \n",
       "1       NaN       0.0   46.31      Нет         NaN   NaN  53.0    Мужской   \n",
       "2     23.76       0.0     NaN      NaN   Бюджетный  Auto   NaN    Женский   \n",
       "3      9.40       NaN   13.90      Нет         NaN    CH   NaN    Мужской   \n",
       "4     14.15       0.0  108.43       Да  Бесплатный  Auto  39.0    Женский   \n",
       "5      7.68       NaN     NaN      Нет         NaN    CC  57.0        NaN   \n",
       "6     27.37       0.2   48.90       Да  Бесплатный    CH   NaN  Женский&*   \n",
       "7      5.35       NaN     NaN       Да         NaN   NaN  55.0  Женский&*   \n",
       "8     14.77       0.0   30.42      Нет  Бесплатный    CH  86.0    Мужской   \n",
       "9     24.73       NaN   21.17      Нет   Бюджетный    CC  28.0    Мужской   \n",
       "\n",
       "    marital  children   income  churn  \n",
       "0     Женат       0.0  77680.0      0  \n",
       "1  Одинокий       1.0  37111.5      0  \n",
       "2       NaN       1.0  37079.4      0  \n",
       "3  Одинокий       NaN  81997.0      0  \n",
       "4  Одинокий       0.0  16829.6      0  \n",
       "5       NaN       1.0  57272.7      0  \n",
       "6       NaN       1.0      NaN      1  \n",
       "7  Одинокий       0.0  40200.7      1  \n",
       "8       NaN       0.0  92167.3      0  \n",
       "9  Одинокий       0.0  37135.5      1  "
      ]
     },
     "execution_count": 5,
     "metadata": {},
     "output_type": "execute_result"
    }
   ],
   "source": [
    "# заменяем запятые на точки и преобразуем в тип float\n",
    "for i in ['longdist', 'internat', 'local', 'income']:\n",
    "    data[i] = data[i].str.replace(',', '.').astype('float')\n",
    "# заменяем строковые значения в переменной churn на числовые\n",
    "data['churn'] = np.where(data['churn'] == 'Остается', 0, 1)\n",
    "data.head(10)"
   ]
  },
  {
   "cell_type": "code",
   "execution_count": 6,
   "metadata": {
    "scrolled": false
   },
   "outputs": [
    {
     "name": "stdout",
     "output_type": "stream",
     "text": [
      "<class 'pandas.core.frame.DataFrame'>\n",
      "RangeIndex: 4431 entries, 0 to 4430\n",
      "Data columns (total 12 columns):\n",
      "longdist    4430 non-null float64\n",
      "internat    4427 non-null float64\n",
      "local       4428 non-null float64\n",
      "int_disc    4430 non-null object\n",
      "billtype    4427 non-null object\n",
      "pay         4429 non-null object\n",
      "age         4428 non-null float64\n",
      "gender      4430 non-null object\n",
      "marital     4427 non-null object\n",
      "children    4430 non-null float64\n",
      "income      4430 non-null float64\n",
      "churn       4431 non-null int64\n",
      "dtypes: float64(6), int64(1), object(5)\n",
      "memory usage: 415.5+ KB\n"
     ]
    }
   ],
   "source": [
    "# смотрим типы переменных\n",
    "data.info()"
   ]
  },
  {
   "cell_type": "markdown",
   "metadata": {},
   "source": [
    "## I.4. Получение подробной информации о количественных и категориальных переменных"
   ]
  },
  {
   "cell_type": "code",
   "execution_count": 7,
   "metadata": {
    "scrolled": true
   },
   "outputs": [
    {
     "data": {
      "text/html": [
       "<div>\n",
       "<style scoped>\n",
       "    .dataframe tbody tr th:only-of-type {\n",
       "        vertical-align: middle;\n",
       "    }\n",
       "\n",
       "    .dataframe tbody tr th {\n",
       "        vertical-align: top;\n",
       "    }\n",
       "\n",
       "    .dataframe thead th {\n",
       "        text-align: right;\n",
       "    }\n",
       "</style>\n",
       "<table border=\"1\" class=\"dataframe\">\n",
       "  <thead>\n",
       "    <tr style=\"text-align: right;\">\n",
       "      <th></th>\n",
       "      <th>longdist</th>\n",
       "      <th>internat</th>\n",
       "      <th>local</th>\n",
       "      <th>age</th>\n",
       "      <th>children</th>\n",
       "      <th>income</th>\n",
       "      <th>churn</th>\n",
       "    </tr>\n",
       "  </thead>\n",
       "  <tbody>\n",
       "    <tr>\n",
       "      <th>count</th>\n",
       "      <td>4430.000000</td>\n",
       "      <td>4427.000000</td>\n",
       "      <td>4428.000000</td>\n",
       "      <td>4428.000000</td>\n",
       "      <td>4430.000000</td>\n",
       "      <td>4430.000000</td>\n",
       "      <td>4431.000000</td>\n",
       "    </tr>\n",
       "    <tr>\n",
       "      <th>mean</th>\n",
       "      <td>13.638023</td>\n",
       "      <td>0.835044</td>\n",
       "      <td>51.361093</td>\n",
       "      <td>57.562331</td>\n",
       "      <td>0.988939</td>\n",
       "      <td>50296.423896</td>\n",
       "      <td>0.436696</td>\n",
       "    </tr>\n",
       "    <tr>\n",
       "      <th>std</th>\n",
       "      <td>9.393025</td>\n",
       "      <td>2.233639</td>\n",
       "      <td>54.685012</td>\n",
       "      <td>22.832404</td>\n",
       "      <td>0.824448</td>\n",
       "      <td>28439.435264</td>\n",
       "      <td>0.496032</td>\n",
       "    </tr>\n",
       "    <tr>\n",
       "      <th>min</th>\n",
       "      <td>0.000000</td>\n",
       "      <td>0.000000</td>\n",
       "      <td>0.050000</td>\n",
       "      <td>18.000000</td>\n",
       "      <td>0.000000</td>\n",
       "      <td>110.280000</td>\n",
       "      <td>0.000000</td>\n",
       "    </tr>\n",
       "    <tr>\n",
       "      <th>25%</th>\n",
       "      <td>5.170000</td>\n",
       "      <td>0.000000</td>\n",
       "      <td>13.460000</td>\n",
       "      <td>38.000000</td>\n",
       "      <td>0.000000</td>\n",
       "      <td>25445.600000</td>\n",
       "      <td>0.000000</td>\n",
       "    </tr>\n",
       "    <tr>\n",
       "      <th>50%</th>\n",
       "      <td>13.680000</td>\n",
       "      <td>0.000000</td>\n",
       "      <td>35.010000</td>\n",
       "      <td>58.000000</td>\n",
       "      <td>1.000000</td>\n",
       "      <td>50290.700000</td>\n",
       "      <td>0.000000</td>\n",
       "    </tr>\n",
       "    <tr>\n",
       "      <th>75%</th>\n",
       "      <td>22.080000</td>\n",
       "      <td>0.000000</td>\n",
       "      <td>71.660000</td>\n",
       "      <td>77.000000</td>\n",
       "      <td>2.000000</td>\n",
       "      <td>75004.500000</td>\n",
       "      <td>1.000000</td>\n",
       "    </tr>\n",
       "    <tr>\n",
       "      <th>max</th>\n",
       "      <td>29.980000</td>\n",
       "      <td>9.950000</td>\n",
       "      <td>450.620000</td>\n",
       "      <td>97.000000</td>\n",
       "      <td>2.000000</td>\n",
       "      <td>99832.900000</td>\n",
       "      <td>1.000000</td>\n",
       "    </tr>\n",
       "  </tbody>\n",
       "</table>\n",
       "</div>"
      ],
      "text/plain": [
       "          longdist     internat        local          age     children  \\\n",
       "count  4430.000000  4427.000000  4428.000000  4428.000000  4430.000000   \n",
       "mean     13.638023     0.835044    51.361093    57.562331     0.988939   \n",
       "std       9.393025     2.233639    54.685012    22.832404     0.824448   \n",
       "min       0.000000     0.000000     0.050000    18.000000     0.000000   \n",
       "25%       5.170000     0.000000    13.460000    38.000000     0.000000   \n",
       "50%      13.680000     0.000000    35.010000    58.000000     1.000000   \n",
       "75%      22.080000     0.000000    71.660000    77.000000     2.000000   \n",
       "max      29.980000     9.950000   450.620000    97.000000     2.000000   \n",
       "\n",
       "             income        churn  \n",
       "count   4430.000000  4431.000000  \n",
       "mean   50296.423896     0.436696  \n",
       "std    28439.435264     0.496032  \n",
       "min      110.280000     0.000000  \n",
       "25%    25445.600000     0.000000  \n",
       "50%    50290.700000     0.000000  \n",
       "75%    75004.500000     1.000000  \n",
       "max    99832.900000     1.000000  "
      ]
     },
     "execution_count": 7,
     "metadata": {},
     "output_type": "execute_result"
    }
   ],
   "source": [
    "# смотрим статистики для количественных переменных\n",
    "data.describe()"
   ]
  },
  {
   "cell_type": "code",
   "execution_count": 8,
   "metadata": {},
   "outputs": [
    {
     "data": {
      "text/html": [
       "<div>\n",
       "<style scoped>\n",
       "    .dataframe tbody tr th:only-of-type {\n",
       "        vertical-align: middle;\n",
       "    }\n",
       "\n",
       "    .dataframe tbody tr th {\n",
       "        vertical-align: top;\n",
       "    }\n",
       "\n",
       "    .dataframe thead th {\n",
       "        text-align: right;\n",
       "    }\n",
       "</style>\n",
       "<table border=\"1\" class=\"dataframe\">\n",
       "  <thead>\n",
       "    <tr style=\"text-align: right;\">\n",
       "      <th></th>\n",
       "      <th>int_disc</th>\n",
       "      <th>billtype</th>\n",
       "      <th>pay</th>\n",
       "      <th>gender</th>\n",
       "      <th>marital</th>\n",
       "    </tr>\n",
       "  </thead>\n",
       "  <tbody>\n",
       "    <tr>\n",
       "      <th>count</th>\n",
       "      <td>4430</td>\n",
       "      <td>4427</td>\n",
       "      <td>4429</td>\n",
       "      <td>4430</td>\n",
       "      <td>4427</td>\n",
       "    </tr>\n",
       "    <tr>\n",
       "      <th>unique</th>\n",
       "      <td>2</td>\n",
       "      <td>2</td>\n",
       "      <td>4</td>\n",
       "      <td>4</td>\n",
       "      <td>5</td>\n",
       "    </tr>\n",
       "    <tr>\n",
       "      <th>top</th>\n",
       "      <td>Нет</td>\n",
       "      <td>Бюджетный</td>\n",
       "      <td>CC</td>\n",
       "      <td>Женский</td>\n",
       "      <td>Женат</td>\n",
       "    </tr>\n",
       "    <tr>\n",
       "      <th>freq</th>\n",
       "      <td>3054</td>\n",
       "      <td>2244</td>\n",
       "      <td>2561</td>\n",
       "      <td>2240</td>\n",
       "      <td>2620</td>\n",
       "    </tr>\n",
       "  </tbody>\n",
       "</table>\n",
       "</div>"
      ],
      "text/plain": [
       "       int_disc   billtype   pay   gender marital\n",
       "count      4430       4427  4429     4430    4427\n",
       "unique        2          2     4        4       5\n",
       "top         Нет  Бюджетный    CC  Женский   Женат\n",
       "freq       3054       2244  2561     2240    2620"
      ]
     },
     "execution_count": 8,
     "metadata": {},
     "output_type": "execute_result"
    }
   ],
   "source": [
    "# смотрим статистики для категориальных переменных,\n",
    "# кроме зависимой переменной churn, создав список\n",
    "# категориальных переменных\n",
    "categorical_columns = [c for c in data.loc[:, data.columns != 'churn'] if data[c].dtype.name == 'object']\n",
    "data[categorical_columns].describe()"
   ]
  },
  {
   "cell_type": "code",
   "execution_count": 9,
   "metadata": {},
   "outputs": [
    {
     "name": "stdout",
     "output_type": "stream",
     "text": [
      "['Нет' nan 'Да']\n",
      "['Бюджетный' nan 'Бесплатный']\n",
      "['CC' nan 'Auto' 'CH' 'CD']\n",
      "['Женский' 'Мужской' nan 'Женский&*' 'Мужской&*']\n",
      "['Женат' 'Одинокий' nan '_Одинокий' '_Женат' 'Же&нат']\n"
     ]
    }
   ],
   "source": [
    "# смотрим уникальные значения\n",
    "# категориальных переменных\n",
    "for c in categorical_columns:\n",
    "    print(data[c].unique())"
   ]
  },
  {
   "cell_type": "code",
   "execution_count": 10,
   "metadata": {
    "scrolled": true
   },
   "outputs": [
    {
     "name": "stdout",
     "output_type": "stream",
     "text": [
      "Нет    3054\n",
      "Да     1376\n",
      "NaN       1\n",
      "Name: int_disc, dtype: int64\n",
      "Бюджетный     2244\n",
      "Бесплатный    2183\n",
      "NaN              4\n",
      "Name: billtype, dtype: int64\n",
      "CC      2561\n",
      "CH       977\n",
      "Auto     889\n",
      "CD         2\n",
      "NaN        2\n",
      "Name: pay, dtype: int64\n",
      "Женский      2240\n",
      "Мужской      2183\n",
      "Женский&*       4\n",
      "Мужской&*       3\n",
      "NaN             1\n",
      "Name: gender, dtype: int64\n",
      "Женат        2620\n",
      "Одинокий     1800\n",
      "NaN             4\n",
      "_Женат          3\n",
      "Же&нат          2\n",
      "_Одинокий       2\n",
      "Name: marital, dtype: int64\n"
     ]
    }
   ],
   "source": [
    "# смотрим частоты категорий для\n",
    "# категориальных переменных\n",
    "for c in categorical_columns:\n",
    "    print(data[c].value_counts(dropna=False))"
   ]
  },
  {
   "cell_type": "markdown",
   "metadata": {},
   "source": [
    "## I.5. Нормализация строковых значений и обработка редких категорий"
   ]
  },
  {
   "cell_type": "code",
   "execution_count": 11,
   "metadata": {},
   "outputs": [
    {
     "name": "stdout",
     "output_type": "stream",
     "text": [
      "Женский    2244\n",
      "Мужской    2186\n",
      "NaN           1\n",
      "Name: gender, dtype: int64\n",
      "Женат       2625\n",
      "Одинокий    1802\n",
      "NaN            4\n",
      "Name: marital, dtype: int64\n"
     ]
    }
   ],
   "source": [
    "# удаляем лишние символы в категориях переменных\n",
    "# gender и marital\n",
    "for i in ['gender', 'marital']:\n",
    "    data[i] = data[i].str.replace('[*&_]', '')\n",
    "\n",
    "# смотрим результаты\n",
    "for i in ['gender', 'marital']:\n",
    "    print(data[i].value_counts(dropna=False))"
   ]
  },
  {
   "cell_type": "code",
   "execution_count": 12,
   "metadata": {},
   "outputs": [
    {
     "data": {
      "text/plain": [
       "CC      2563\n",
       "CH       977\n",
       "Auto     889\n",
       "NaN        2\n",
       "Name: pay, dtype: int64"
      ]
     },
     "execution_count": 12,
     "metadata": {},
     "output_type": "execute_result"
    }
   ],
   "source": [
    "# заменяем редкую категорию модой\n",
    "data.at[data['pay'] == 'CD', 'pay'] = 'CC'\n",
    "data['pay'].value_counts(dropna=False)"
   ]
  },
  {
   "cell_type": "markdown",
   "metadata": {},
   "source": [
    "## I.6. Конструирование признаков"
   ]
  },
  {
   "cell_type": "code",
   "execution_count": 13,
   "metadata": {},
   "outputs": [],
   "source": [
    "# пишем функцию, создающую парные взаимодействия\n",
    "def make_conj(df, feature1, feature2):\n",
    "    df[feature1 + \"_\" + feature2] = df[feature1].astype('object') + \" + \" + df[feature2].astype('object')"
   ]
  },
  {
   "cell_type": "code",
   "execution_count": 14,
   "metadata": {},
   "outputs": [],
   "source": [
    "# применяем функцию\n",
    "make_conj(data, 'gender', 'marital')"
   ]
  },
  {
   "cell_type": "code",
   "execution_count": 15,
   "metadata": {},
   "outputs": [],
   "source": [
    "# поделим возраст на длительность междугородних звонков в минутах\n",
    "data['ratio'] = data['age'] / data['longdist']\n",
    "# заменяем бесконечные значения на 1\n",
    "data['ratio'].replace([np.inf, -np.inf], 1, inplace=True)"
   ]
  },
  {
   "cell_type": "code",
   "execution_count": 16,
   "metadata": {},
   "outputs": [],
   "source": [
    "# поделим доход на возраст\n",
    "data['ratio2'] = data['income'] / data['age']\n",
    "# заменяем бесконечные значения на 0\n",
    "data['ratio2'].replace([np.inf, -np.inf], 0, inplace=True)"
   ]
  },
  {
   "cell_type": "code",
   "execution_count": 17,
   "metadata": {},
   "outputs": [],
   "source": [
    "# поделим возраст на количество детей\n",
    "data['ratio3'] = data['age'] / data['children']\n",
    "# заменяем бесконечные значения на 0\n",
    "data['ratio3'].replace([np.inf, -np.inf], 0, inplace=True)"
   ]
  },
  {
   "cell_type": "code",
   "execution_count": 18,
   "metadata": {},
   "outputs": [],
   "source": [
    "# поделим длительность междугородних звонков в минутах на\n",
    "# длительность международных звонков в минутах\n",
    "data['ratio4'] = data['longdist'] / data['internat']\n",
    "# заменяем бесконечные значения на 0\n",
    "data['ratio4'].replace([np.inf, -np.inf], 0, inplace=True)"
   ]
  },
  {
   "cell_type": "markdown",
   "metadata": {},
   "source": [
    "## I.7. Разбиение набора данных на обучающую и контрольную выборки"
   ]
  },
  {
   "cell_type": "code",
   "execution_count": 19,
   "metadata": {},
   "outputs": [],
   "source": [
    "# создаем обучающий массив признаков, обучающий массив меток,\n",
    "# тестовый массив признаков, тестовый массив меток\n",
    "train, test, y_train, y_test = train_test_split(data.drop('churn', axis=1), \n",
    "                                                data['churn'], \n",
    "                                                test_size=.3, \n",
    "                                                stratify=data['churn'], \n",
    "                                                random_state=100)"
   ]
  },
  {
   "cell_type": "code",
   "execution_count": 20,
   "metadata": {},
   "outputs": [
    {
     "name": "stdout",
     "output_type": "stream",
     "text": [
      "longdist            1\n",
      "internat            3\n",
      "local               2\n",
      "int_disc            0\n",
      "billtype            3\n",
      "pay                 2\n",
      "age                 1\n",
      "gender              1\n",
      "marital             2\n",
      "children            0\n",
      "income              1\n",
      "gender_marital      2\n",
      "ratio               2\n",
      "ratio2              1\n",
      "ratio3              1\n",
      "ratio4            357\n",
      "dtype: int64\n",
      "longdist            0\n",
      "internat            1\n",
      "local               1\n",
      "int_disc            1\n",
      "billtype            1\n",
      "pay                 0\n",
      "age                 2\n",
      "gender              0\n",
      "marital             2\n",
      "children            1\n",
      "income              0\n",
      "gender_marital      2\n",
      "ratio               2\n",
      "ratio2              2\n",
      "ratio3              2\n",
      "ratio4            140\n",
      "dtype: int64\n"
     ]
    }
   ],
   "source": [
    "# выводим информацию о количестве пропусков\n",
    "# по каждой переменной в полученных выборках\n",
    "print(train.isnull().sum())\n",
    "print(test.isnull().sum())"
   ]
  },
  {
   "cell_type": "code",
   "execution_count": 21,
   "metadata": {},
   "outputs": [],
   "source": [
    "from sklearn.base import TransformerMixin\n",
    "class CustomBinning(TransformerMixin):\n",
    "    def fit(self, X, y=None):\n",
    "        return self\n",
    "    \n",
    "    def transform(self, X):\n",
    "        bins = np.array([-np.inf,  0.14, 8.81, np.inf])\n",
    "        X_bin = np.digitize(X, bins)\n",
    "        return X_bin"
   ]
  },
  {
   "cell_type": "code",
   "execution_count": 22,
   "metadata": {},
   "outputs": [],
   "source": [
    "class Replacer(TransformerMixin):\n",
    "    def fit(self, X, y=None):\n",
    "        return self\n",
    "    \n",
    "    def transform(self, X):\n",
    "        X_replaced = np.where(X==0, 0.5, X) \n",
    "        return X_replaced"
   ]
  },
  {
   "cell_type": "code",
   "execution_count": 23,
   "metadata": {},
   "outputs": [
    {
     "data": {
      "text/plain": [
       "Index(['longdist', 'internat', 'local', 'age', 'children', 'income', 'ratio',\n",
       "       'ratio2', 'ratio3', 'ratio4'],\n",
       "      dtype='object')"
      ]
     },
     "execution_count": 23,
     "metadata": {},
     "output_type": "execute_result"
    }
   ],
   "source": [
    "# создаем списки количественных \n",
    "# и категориальных столбцов\n",
    "cat_columns = train.dtypes[train.dtypes == 'object'].index\n",
    "num_columns = train.dtypes[train.dtypes != 'object'].index\n",
    "num_columns"
   ]
  },
  {
   "cell_type": "code",
   "execution_count": 24,
   "metadata": {},
   "outputs": [],
   "source": [
    "num_columns_for_bin = ['longdist']\n",
    "num_columns_for_kbindisc = ['local', 'age']"
   ]
  },
  {
   "cell_type": "code",
   "execution_count": 25,
   "metadata": {},
   "outputs": [],
   "source": [
    "num_pipe = Pipeline([\n",
    "    ('imputer', SimpleImputer(strategy='mean')),\n",
    "    ('replacer', Replacer()),\n",
    "    ('boxcox', PowerTransformer(method='box-cox', standardize=True))\n",
    "])\n",
    "\n",
    "num_bin_pipe = Pipeline([\n",
    "    ('imputer', SimpleImputer(strategy='mean')),\n",
    "    ('replacer', Replacer()),\n",
    "    ('boxcox', PowerTransformer(method='box-cox', standardize=True)),\n",
    "    ('bin', CustomBinning()),\n",
    "    ('ohe', OneHotEncoder(sparse=False, handle_unknown='ignore'))\n",
    "])\n",
    "\n",
    "num_kbindisc_pipe = Pipeline([\n",
    "    ('imputer', SimpleImputer(strategy='mean')),\n",
    "    ('replacer', Replacer()),\n",
    "    ('boxcox', PowerTransformer(method='box-cox', standardize=True)),\n",
    "    ('kbd', KBinsDiscretizer(n_bins=3, encode='onehot-dense'))\n",
    "])\n",
    "\n",
    "cat_pipe = Pipeline([\n",
    "    ('imputer', SimpleImputer(strategy='most_frequent')),\n",
    "    ('ohe', OneHotEncoder(sparse=False, handle_unknown='ignore'))\n",
    "])"
   ]
  },
  {
   "cell_type": "code",
   "execution_count": 26,
   "metadata": {},
   "outputs": [],
   "source": [
    "transformers = [('num', num_pipe, num_columns),\n",
    "                ('num_bin', num_bin_pipe, num_columns_for_bin),\n",
    "                ('num_kbindisc', num_kbindisc_pipe, num_columns_for_kbindisc),\n",
    "                ('cat', cat_pipe, cat_columns)\n",
    "               ]\n",
    "ct = ColumnTransformer(transformers=transformers)\n",
    "ct.fit(train)\n",
    "X_train = ct.transform(train)\n",
    "X_test = ct.transform(test)"
   ]
  },
  {
   "cell_type": "code",
   "execution_count": 27,
   "metadata": {},
   "outputs": [
    {
     "name": "stdout",
     "output_type": "stream",
     "text": [
      "AUC на обучающей выборке: 0.893\n",
      "AUC на контрольной выборке: 0.890\n"
     ]
    }
   ],
   "source": [
    "logreg = LogisticRegression(solver='lbfgs', max_iter=200).fit(X_train, y_train)\n",
    "# печатаем значения AUC\n",
    "print(\"AUC на обучающей выборке: {:.3f}\".format(\n",
    "    roc_auc_score(y_train, logreg.predict_proba(X_train)[:, 1])))\n",
    "print(\"AUC на контрольной выборке: {:.3f}\".format(\n",
    "    roc_auc_score(y_test, logreg.predict_proba(X_test)[:, 1])))"
   ]
  },
  {
   "cell_type": "code",
   "execution_count": 28,
   "metadata": {},
   "outputs": [],
   "source": [
    "X = data\n",
    "y = data.pop('churn').values"
   ]
  },
  {
   "cell_type": "code",
   "execution_count": 29,
   "metadata": {},
   "outputs": [
    {
     "data": {
      "text/plain": [
       "0.8904699746025904"
      ]
     },
     "execution_count": 29,
     "metadata": {},
     "output_type": "execute_result"
    }
   ],
   "source": [
    "# создаем экземпляр класса KFold\n",
    "kf = KFold(n_splits=5, shuffle=True, random_state=123)\n",
    "ml_pipe = Pipeline([('transform', ct), ('logreg', LogisticRegression(\n",
    "    solver='lbfgs', max_iter=200))])\n",
    "# выполняем перекрестную проверку, конвейер размещен\n",
    "# внутри цикла перекрестной проверки\n",
    "cross_val_score(ml_pipe, X, y, scoring='roc_auc', cv=kf).mean()"
   ]
  },
  {
   "cell_type": "code",
   "execution_count": 30,
   "metadata": {},
   "outputs": [
    {
     "data": {
      "text/plain": [
       "{'logreg__C': 0.4,\n",
       " 'transform__num_kbindisc__kbd__n_bins': 3,\n",
       " 'transform__num_kbindisc__kbd__strategy': 'uniform'}"
      ]
     },
     "execution_count": 30,
     "metadata": {},
     "output_type": "execute_result"
    }
   ],
   "source": [
    "# задаем сетку гиперпараметров\n",
    "param_grid = {\n",
    "    'logreg__C': [0.02, 0.04, 0.08, 0.2, 0.4, 0.6, 0.8, 1],\n",
    "    'transform__num_kbindisc__kbd__n_bins': [2, 3, 4],\n",
    "    'transform__num_kbindisc__kbd__strategy': ['uniform', \n",
    "                                               'quantile', \n",
    "                                               'kmeans'],\n",
    "}\n",
    "# передаем наш конвейер в объект GridSearchCV\n",
    "gs = GridSearchCV(ml_pipe, param_grid,  scoring='roc_auc', cv=kf)\n",
    "# выполняем решетчатый поиск\n",
    "gs.fit(X, y)\n",
    "# смотрим наилучшие значения гиперпараметров\n",
    "gs.best_params_"
   ]
  },
  {
   "cell_type": "code",
   "execution_count": 31,
   "metadata": {},
   "outputs": [
    {
     "data": {
      "text/plain": [
       "0.8925539965951182"
      ]
     },
     "execution_count": 31,
     "metadata": {},
     "output_type": "execute_result"
    }
   ],
   "source": [
    "# смотрим наилучшее значение AUC\n",
    "gs.best_score_"
   ]
  },
  {
   "cell_type": "code",
   "execution_count": 32,
   "metadata": {},
   "outputs": [],
   "source": [
    "# записываем CSV-файл в объект DataFrame \n",
    "fulldata = pd.read_csv('Data/Churn_logreg.csv', encoding='cp1251', sep=';')"
   ]
  },
  {
   "cell_type": "code",
   "execution_count": 33,
   "metadata": {},
   "outputs": [],
   "source": [
    "# создаем массив меток и массив признаков\n",
    "y_fulldata = fulldata.pop('churn').values"
   ]
  },
  {
   "cell_type": "code",
   "execution_count": 34,
   "metadata": {},
   "outputs": [],
   "source": [
    "# пишем функцию, выполняющую предварительную обработку исторических данных\n",
    "def preprocessing(df):\n",
    "    # заменяем запятые на точки и преобразуем в тип float\n",
    "    for i in ['longdist', 'internat', 'local', 'income']:\n",
    "        df[i] = df[i].str.replace(',', '.').astype('float')\n",
    "    # удаляем возможные лишние символы (все символы, не являющиеся \n",
    "    # буквами, символы нижнего подчеркивания и цифры) в категориях \n",
    "    # переменных gender и marital\n",
    "    for i in ['gender', 'marital']:\n",
    "        df[i] = df[i].str.replace('[\\d+\\W_]', '')\n",
    "    # все новые категории переменной pay заменяем модой\n",
    "    replace_new_values = lambda s: 'CC' if s not in ['CC', 'Auto', 'CH', np.NaN] else s\n",
    "    df['pay'] = df['pay'].map(replace_new_values)\n",
    "    # создаем переменную - результат конъюнкции\n",
    "    df['gender_marital'] = df['gender'].astype('object') + \" + \" + df['marital'].astype('object')\n",
    "    # поделим возраст на длительность междугородних звонков в минутах\n",
    "    df['ratio'] = df['age'] / df['longdist']\n",
    "    # заменяем бесконечные значения на 1\n",
    "    df['ratio'].replace([np.inf, -np.inf], 1, inplace=True)\n",
    "    # поделим длительность междугородних звонков в минутах на\n",
    "    # длительность международных звонков в минутах\n",
    "    df['ratio2'] = df['longdist'] / df['internat']\n",
    "    # заменяем бесконечные значения на 0\n",
    "    df['ratio2'].replace([np.inf, -np.inf], 0, inplace=True)\n",
    "    # поделим доход на возраст\n",
    "    df['ratio3'] = df['income'] / df['age']\n",
    "    # заменяем бесконечные значения на 0\n",
    "    df['ratio3'].replace([np.inf, -np.inf], 0, inplace=True)\n",
    "    # поделим возраст на количество детей\n",
    "    df['ratio4'] = df['age'] / df['children']\n",
    "    # заменяем бесконечные значения на 0\n",
    "    df['ratio4'].replace([np.inf, -np.inf], 0, inplace=True)"
   ]
  },
  {
   "cell_type": "code",
   "execution_count": 35,
   "metadata": {},
   "outputs": [],
   "source": [
    "# применяем функцию предварительной обработки \n",
    "# ко всем историческим данным\n",
    "preprocessing(fulldata)"
   ]
  },
  {
   "cell_type": "code",
   "execution_count": 36,
   "metadata": {},
   "outputs": [],
   "source": [
    "num_kbindisc_pipe_upd = Pipeline([\n",
    "    ('imputer', SimpleImputer(strategy='mean')),\n",
    "    ('replacer', Replacer()),\n",
    "    ('boxcox', PowerTransformer(method='box-cox', standardize=True)),\n",
    "    ('kbd_upd', KBinsDiscretizer(n_bins=3, strategy='uniform', encode='onehot-dense'))\n",
    "])"
   ]
  },
  {
   "cell_type": "code",
   "execution_count": 37,
   "metadata": {},
   "outputs": [],
   "source": [
    "# создаем список трансформеров\n",
    "transformers_full = [('num', num_pipe, num_columns),\n",
    "                     ('num_bin', num_bin_pipe, num_columns_for_bin),\n",
    "                     ('num_kbindisc', num_kbindisc_pipe_upd, num_columns_for_kbindisc),\n",
    "                     ('cat', cat_pipe, cat_columns)\n",
    "                    ]\n",
    "ct_full = ColumnTransformer(transformers=transformers_full)"
   ]
  },
  {
   "cell_type": "code",
   "execution_count": 38,
   "metadata": {},
   "outputs": [],
   "source": [
    "fulldata = ct_full.fit_transform(fulldata)"
   ]
  },
  {
   "cell_type": "code",
   "execution_count": 39,
   "metadata": {},
   "outputs": [
    {
     "name": "stdout",
     "output_type": "stream",
     "text": [
      "AUC на всей исторической выборке: 0.896\n"
     ]
    }
   ],
   "source": [
    "# строим модель логистической регрессии на всех исторических данных\n",
    "logreg_full = LogisticRegression(solver='lbfgs', C=0.4, max_iter=200).fit(fulldata, y_fulldata)\n",
    "# печатаем значения AUC\n",
    "print(\"AUC на всей исторической выборке: {:.3f}\".format(\n",
    "    roc_auc_score(y_fulldata, logreg_full.predict_proba(fulldata)[:, 1])))"
   ]
  },
  {
   "cell_type": "code",
   "execution_count": 40,
   "metadata": {},
   "outputs": [],
   "source": [
    "# записываем CSV-файл, содержащий новые данные,\n",
    "# в объект DataFrame\n",
    "newdata = pd.read_csv('Data/Churn_new.csv', \n",
    "                      encoding='utf-8', sep=';')"
   ]
  },
  {
   "cell_type": "code",
   "execution_count": 41,
   "metadata": {},
   "outputs": [],
   "source": [
    "# применяем функцию предварительной обработки \n",
    "# к новым данным\n",
    "preprocessing(newdata)"
   ]
  },
  {
   "cell_type": "code",
   "execution_count": 42,
   "metadata": {},
   "outputs": [],
   "source": [
    "# применяем конвейеры к новым данным\n",
    "newdata = ct_full.fit_transform(newdata)"
   ]
  },
  {
   "cell_type": "code",
   "execution_count": 43,
   "metadata": {},
   "outputs": [
    {
     "data": {
      "text/plain": [
       "array([[0.07851663, 0.92148337],\n",
       "       [0.11812079, 0.88187921],\n",
       "       [0.84523635, 0.15476365],\n",
       "       [0.83759179, 0.16240821],\n",
       "       [0.01561342, 0.98438658]])"
      ]
     },
     "execution_count": 43,
     "metadata": {},
     "output_type": "execute_result"
    }
   ],
   "source": [
    "# вычисляем вероятности классов для новых данных\n",
    "prob = logreg_full.predict_proba(newdata)\n",
    "# выведем вероятности для первых 5 наблюдений\n",
    "prob[:5]"
   ]
  },
  {
   "cell_type": "code",
   "execution_count": null,
   "metadata": {},
   "outputs": [],
   "source": []
  }
 ],
 "metadata": {
  "kernelspec": {
   "display_name": "Python 3",
   "language": "python",
   "name": "python3"
  },
  "language_info": {
   "codemirror_mode": {
    "name": "ipython",
    "version": 3
   },
   "file_extension": ".py",
   "mimetype": "text/x-python",
   "name": "python",
   "nbconvert_exporter": "python",
   "pygments_lexer": "ipython3",
   "version": "3.7.1"
  }
 },
 "nbformat": 4,
 "nbformat_minor": 2
}
